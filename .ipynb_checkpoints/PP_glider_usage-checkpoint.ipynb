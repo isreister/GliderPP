{
 "cells": [
  {
   "cell_type": "markdown",
   "id": "5f5dc6bc",
   "metadata": {},
   "source": [
    "# AlterEco  ppglider code usage"
   ]
  },
  {
   "cell_type": "markdown",
   "id": "96942110",
   "metadata": {},
   "source": [
    "### Installation\n",
    "The source files for the PAR and PP models that this package depends on are provided. However, built version are provided for Ubunutu Linux, only.\n",
    "\n",
    "Other prerequisites:\n",
    "* Anaconda; https://www.anaconda.com/products/individual\n",
    "\n",
    "Once you have installed the Anaconda package manager, the required Python environment can be built with;\n",
    "\n",
    "> **conda env create -f environment.yml**\n",
    "\n",
    "This will create the ppglider environment, which can be activated using;\n",
    "\n",
    "> **conda activate ppglider**\n",
    "\n",
    "<hr>"
   ]
  },
  {
   "cell_type": "markdown",
   "id": "a72e0595",
   "metadata": {},
   "source": [
    "### Instantiating a database\n",
    "\n",
    "This creates an instance of a database to track processing progress. Depending on how you mirror the FTP (next step) this can be configured to work for a single glider, or a fleet of gliders. All parameters are set in `./configs/config.main`\n",
    "\n",
    "The database manages the processing stages for each glider mission."
   ]
  },
  {
   "cell_type": "code",
   "execution_count": null,
   "id": "dde7586f",
   "metadata": {},
   "outputs": [],
   "source": [
    "./operational_code/ppglider_init_db.py"
   ]
  },
  {
   "cell_type": "markdown",
   "id": "bf5d84df",
   "metadata": {},
   "source": [
    "### Mirroring remote FTP data to local directory structure and update database\n",
    "\n",
    "This ingests products from a specified remote (or local) FTP site, popoulating the database with all the ingested data. The ingestion is not that reliable, due to the vagaries of glider formats. EGO format data should be standardised, but given the number of glider operators we cannot guarantee that all non-EGO data will ingest properly. To expand the ingestion options, see the `ops_code/tools/db_tools.ad_new_file_row` routine. Unreadable gliders will receive the `unknown` as a glider platform, name and number.\n",
    "\n",
    "Data will only be downloaded if it is not already present locally, so this process can be staged on a cron job. Similarly, the autodownloader will check the downloaded data directory for any files that may have arrived through other means, adding them to the database as necessary. Duplicates will not be included. "
   ]
  },
  {
   "cell_type": "code",
   "execution_count": null,
   "id": "e118ea48",
   "metadata": {},
   "outputs": [],
   "source": [
    "ppglider_autodownload.py"
   ]
  },
  {
   "cell_type": "markdown",
   "id": "09731770",
   "metadata": {},
   "source": [
    "### Staging the data\n",
    "\n",
    "This processor treats each profile independently. An EGO file consists of many profile. Non-EGO data is often split into separate files, which include a single dives, consisting of both a downward and upward profile. The stager will split these files into individual profiles, preparing the data for pre-processing."
   ]
  },
  {
   "cell_type": "code",
   "execution_count": null,
   "id": "8c0a0824",
   "metadata": {},
   "outputs": [],
   "source": [
    "ppglider_staging.py"
   ]
  }
 ],
 "metadata": {
  "kernelspec": {
   "display_name": "Python 3 (ipykernel)",
   "language": "python",
   "name": "python3"
  },
  "language_info": {
   "codemirror_mode": {
    "name": "ipython",
    "version": 3
   },
   "file_extension": ".py",
   "mimetype": "text/x-python",
   "name": "python",
   "nbconvert_exporter": "python",
   "pygments_lexer": "ipython3",
   "version": "3.8.5"
  }
 },
 "nbformat": 4,
 "nbformat_minor": 5
}
